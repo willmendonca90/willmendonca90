{
  "nbformat": 4,
  "nbformat_minor": 0,
  "metadata": {
    "colab": {
      "name": "UFO.ipynb",
      "provenance": []
    },
    "kernelspec": {
      "name": "python3",
      "display_name": "Python 3"
    },
    "language_info": {
      "name": "python"
    }
  },
  "cells": [
    {
      "cell_type": "markdown",
      "metadata": {
        "id": "Z98eDLcmBgim"
      },
      "source": [
        "# Entendimento do Problema\n",
        "\n",
        "## Qual pergunta quero responder?\n",
        "\n",
        "\n",
        "*   Qual é o país com maior número de avistamentos?\n",
        "*   Qual é o estado/cidade com maior número de avistamentos?\n",
        "\n",
        "*   Qual é a forma de UFO mais avistada?\n",
        "\n",
        "*   Qual é a duração média dos avistamentos?\n",
        "\n",
        "*   Qual é o sentimento das pessoas que avistaram?"
      ]
    },
    {
      "cell_type": "markdown",
      "metadata": {
        "id": "yMQUB0HbCTwL"
      },
      "source": [
        "### Importando as Bibliotecas"
      ]
    },
    {
      "cell_type": "code",
      "metadata": {
        "id": "HfAbEE53xVIW"
      },
      "source": [
        "# Importando as libs\n",
        "import pandas as pd\n",
        "import numpy as np\n",
        "import matplotlib.pyplot as plt\n",
        "from scipy.stats import mode"
      ],
      "execution_count": 1,
      "outputs": []
    },
    {
      "cell_type": "markdown",
      "metadata": {
        "id": "TQnttdwUCaYN"
      },
      "source": [
        "### Leitura do dataset"
      ]
    },
    {
      "cell_type": "code",
      "metadata": {
        "colab": {
          "base_uri": "https://localhost:8080/",
          "height": 330
        },
        "id": "MVXy6I6Gx0JT",
        "outputId": "d408bd7b-2e16-4ce9-961f-3b8e2b3c0cff"
      },
      "source": [
        "# Lendo o Dataset\n",
        "df = pd.read_csv('/content/ufo_sightings_scrubbed.csv')\n",
        "df.head()"
      ],
      "execution_count": 2,
      "outputs": [
        {
          "output_type": "stream",
          "text": [
            "/usr/local/lib/python3.7/dist-packages/IPython/core/interactiveshell.py:2718: DtypeWarning: Columns (5,9) have mixed types.Specify dtype option on import or set low_memory=False.\n",
            "  interactivity=interactivity, compiler=compiler, result=result)\n"
          ],
          "name": "stderr"
        },
        {
          "output_type": "execute_result",
          "data": {
            "text/html": [
              "<div>\n",
              "<style scoped>\n",
              "    .dataframe tbody tr th:only-of-type {\n",
              "        vertical-align: middle;\n",
              "    }\n",
              "\n",
              "    .dataframe tbody tr th {\n",
              "        vertical-align: top;\n",
              "    }\n",
              "\n",
              "    .dataframe thead th {\n",
              "        text-align: right;\n",
              "    }\n",
              "</style>\n",
              "<table border=\"1\" class=\"dataframe\">\n",
              "  <thead>\n",
              "    <tr style=\"text-align: right;\">\n",
              "      <th></th>\n",
              "      <th>datetime</th>\n",
              "      <th>city</th>\n",
              "      <th>state</th>\n",
              "      <th>country</th>\n",
              "      <th>shape</th>\n",
              "      <th>duration (seconds)</th>\n",
              "      <th>duration (hours/min)</th>\n",
              "      <th>comments</th>\n",
              "      <th>date posted</th>\n",
              "      <th>latitude</th>\n",
              "      <th>longitude</th>\n",
              "    </tr>\n",
              "  </thead>\n",
              "  <tbody>\n",
              "    <tr>\n",
              "      <th>0</th>\n",
              "      <td>1949-10-10 20:30:00</td>\n",
              "      <td>san marcos</td>\n",
              "      <td>tx</td>\n",
              "      <td>us</td>\n",
              "      <td>cylinder</td>\n",
              "      <td>2700</td>\n",
              "      <td>45 minutes</td>\n",
              "      <td>This event took place in early fall around 194...</td>\n",
              "      <td>2004-04-27</td>\n",
              "      <td>29.8830556</td>\n",
              "      <td>-97.941111</td>\n",
              "    </tr>\n",
              "    <tr>\n",
              "      <th>1</th>\n",
              "      <td>1949-10-10 21:00:00</td>\n",
              "      <td>lackland afb</td>\n",
              "      <td>tx</td>\n",
              "      <td>NaN</td>\n",
              "      <td>light</td>\n",
              "      <td>7200</td>\n",
              "      <td>1-2 hrs</td>\n",
              "      <td>1949 Lackland AFB&amp;#44 TX.  Lights racing acros...</td>\n",
              "      <td>2005-12-16</td>\n",
              "      <td>29.38421</td>\n",
              "      <td>-98.581082</td>\n",
              "    </tr>\n",
              "    <tr>\n",
              "      <th>2</th>\n",
              "      <td>1955-10-10 17:00:00</td>\n",
              "      <td>chester (uk/england)</td>\n",
              "      <td>NaN</td>\n",
              "      <td>gb</td>\n",
              "      <td>circle</td>\n",
              "      <td>20</td>\n",
              "      <td>20 seconds</td>\n",
              "      <td>Green/Orange circular disc over Chester&amp;#44 En...</td>\n",
              "      <td>2008-01-21</td>\n",
              "      <td>53.2</td>\n",
              "      <td>-2.916667</td>\n",
              "    </tr>\n",
              "    <tr>\n",
              "      <th>3</th>\n",
              "      <td>1956-10-10 21:00:00</td>\n",
              "      <td>edna</td>\n",
              "      <td>tx</td>\n",
              "      <td>us</td>\n",
              "      <td>circle</td>\n",
              "      <td>20</td>\n",
              "      <td>1/2 hour</td>\n",
              "      <td>My older brother and twin sister were leaving ...</td>\n",
              "      <td>2004-01-17</td>\n",
              "      <td>28.9783333</td>\n",
              "      <td>-96.645833</td>\n",
              "    </tr>\n",
              "    <tr>\n",
              "      <th>4</th>\n",
              "      <td>1960-10-10 20:00:00</td>\n",
              "      <td>kaneohe</td>\n",
              "      <td>hi</td>\n",
              "      <td>us</td>\n",
              "      <td>light</td>\n",
              "      <td>900</td>\n",
              "      <td>15 minutes</td>\n",
              "      <td>AS a Marine 1st Lt. flying an FJ4B fighter/att...</td>\n",
              "      <td>2004-01-22</td>\n",
              "      <td>21.4180556</td>\n",
              "      <td>-157.803611</td>\n",
              "    </tr>\n",
              "  </tbody>\n",
              "</table>\n",
              "</div>"
            ],
            "text/plain": [
              "              datetime                  city  ...    latitude  longitude \n",
              "0  1949-10-10 20:30:00            san marcos  ...  29.8830556  -97.941111\n",
              "1  1949-10-10 21:00:00          lackland afb  ...    29.38421  -98.581082\n",
              "2  1955-10-10 17:00:00  chester (uk/england)  ...        53.2   -2.916667\n",
              "3  1956-10-10 21:00:00                  edna  ...  28.9783333  -96.645833\n",
              "4  1960-10-10 20:00:00               kaneohe  ...  21.4180556 -157.803611\n",
              "\n",
              "[5 rows x 11 columns]"
            ]
          },
          "metadata": {
            "tags": []
          },
          "execution_count": 2
        }
      ]
    },
    {
      "cell_type": "markdown",
      "metadata": {
        "id": "ytpgKY6aCmjr"
      },
      "source": [
        "### Análise Exploratória"
      ]
    },
    {
      "cell_type": "code",
      "metadata": {
        "colab": {
          "base_uri": "https://localhost:8080/",
          "height": 296
        },
        "id": "G-gmCtF8yz2w",
        "outputId": "42c3510a-dedd-4a86-f459-1984d99ce9fb"
      },
      "source": [
        "df.head()"
      ],
      "execution_count": 3,
      "outputs": [
        {
          "output_type": "execute_result",
          "data": {
            "text/html": [
              "<div>\n",
              "<style scoped>\n",
              "    .dataframe tbody tr th:only-of-type {\n",
              "        vertical-align: middle;\n",
              "    }\n",
              "\n",
              "    .dataframe tbody tr th {\n",
              "        vertical-align: top;\n",
              "    }\n",
              "\n",
              "    .dataframe thead th {\n",
              "        text-align: right;\n",
              "    }\n",
              "</style>\n",
              "<table border=\"1\" class=\"dataframe\">\n",
              "  <thead>\n",
              "    <tr style=\"text-align: right;\">\n",
              "      <th></th>\n",
              "      <th>datetime</th>\n",
              "      <th>city</th>\n",
              "      <th>state</th>\n",
              "      <th>country</th>\n",
              "      <th>shape</th>\n",
              "      <th>duration (seconds)</th>\n",
              "      <th>duration (hours/min)</th>\n",
              "      <th>comments</th>\n",
              "      <th>date posted</th>\n",
              "      <th>latitude</th>\n",
              "      <th>longitude</th>\n",
              "    </tr>\n",
              "  </thead>\n",
              "  <tbody>\n",
              "    <tr>\n",
              "      <th>0</th>\n",
              "      <td>1949-10-10 20:30:00</td>\n",
              "      <td>san marcos</td>\n",
              "      <td>tx</td>\n",
              "      <td>us</td>\n",
              "      <td>cylinder</td>\n",
              "      <td>2700</td>\n",
              "      <td>45 minutes</td>\n",
              "      <td>This event took place in early fall around 194...</td>\n",
              "      <td>2004-04-27</td>\n",
              "      <td>29.8830556</td>\n",
              "      <td>-97.941111</td>\n",
              "    </tr>\n",
              "    <tr>\n",
              "      <th>1</th>\n",
              "      <td>1949-10-10 21:00:00</td>\n",
              "      <td>lackland afb</td>\n",
              "      <td>tx</td>\n",
              "      <td>NaN</td>\n",
              "      <td>light</td>\n",
              "      <td>7200</td>\n",
              "      <td>1-2 hrs</td>\n",
              "      <td>1949 Lackland AFB&amp;#44 TX.  Lights racing acros...</td>\n",
              "      <td>2005-12-16</td>\n",
              "      <td>29.38421</td>\n",
              "      <td>-98.581082</td>\n",
              "    </tr>\n",
              "    <tr>\n",
              "      <th>2</th>\n",
              "      <td>1955-10-10 17:00:00</td>\n",
              "      <td>chester (uk/england)</td>\n",
              "      <td>NaN</td>\n",
              "      <td>gb</td>\n",
              "      <td>circle</td>\n",
              "      <td>20</td>\n",
              "      <td>20 seconds</td>\n",
              "      <td>Green/Orange circular disc over Chester&amp;#44 En...</td>\n",
              "      <td>2008-01-21</td>\n",
              "      <td>53.2</td>\n",
              "      <td>-2.916667</td>\n",
              "    </tr>\n",
              "    <tr>\n",
              "      <th>3</th>\n",
              "      <td>1956-10-10 21:00:00</td>\n",
              "      <td>edna</td>\n",
              "      <td>tx</td>\n",
              "      <td>us</td>\n",
              "      <td>circle</td>\n",
              "      <td>20</td>\n",
              "      <td>1/2 hour</td>\n",
              "      <td>My older brother and twin sister were leaving ...</td>\n",
              "      <td>2004-01-17</td>\n",
              "      <td>28.9783333</td>\n",
              "      <td>-96.645833</td>\n",
              "    </tr>\n",
              "    <tr>\n",
              "      <th>4</th>\n",
              "      <td>1960-10-10 20:00:00</td>\n",
              "      <td>kaneohe</td>\n",
              "      <td>hi</td>\n",
              "      <td>us</td>\n",
              "      <td>light</td>\n",
              "      <td>900</td>\n",
              "      <td>15 minutes</td>\n",
              "      <td>AS a Marine 1st Lt. flying an FJ4B fighter/att...</td>\n",
              "      <td>2004-01-22</td>\n",
              "      <td>21.4180556</td>\n",
              "      <td>-157.803611</td>\n",
              "    </tr>\n",
              "  </tbody>\n",
              "</table>\n",
              "</div>"
            ],
            "text/plain": [
              "              datetime                  city  ...    latitude  longitude \n",
              "0  1949-10-10 20:30:00            san marcos  ...  29.8830556  -97.941111\n",
              "1  1949-10-10 21:00:00          lackland afb  ...    29.38421  -98.581082\n",
              "2  1955-10-10 17:00:00  chester (uk/england)  ...        53.2   -2.916667\n",
              "3  1956-10-10 21:00:00                  edna  ...  28.9783333  -96.645833\n",
              "4  1960-10-10 20:00:00               kaneohe  ...  21.4180556 -157.803611\n",
              "\n",
              "[5 rows x 11 columns]"
            ]
          },
          "metadata": {
            "tags": []
          },
          "execution_count": 3
        }
      ]
    },
    {
      "cell_type": "code",
      "metadata": {
        "colab": {
          "base_uri": "https://localhost:8080/",
          "height": 195
        },
        "id": "RtN1Mu5Ly1Op",
        "outputId": "19a04ae2-c613-4444-a2cf-6ee8d04b7f94"
      },
      "source": [
        "df.tail()"
      ],
      "execution_count": 4,
      "outputs": [
        {
          "output_type": "execute_result",
          "data": {
            "text/html": [
              "<div>\n",
              "<style scoped>\n",
              "    .dataframe tbody tr th:only-of-type {\n",
              "        vertical-align: middle;\n",
              "    }\n",
              "\n",
              "    .dataframe tbody tr th {\n",
              "        vertical-align: top;\n",
              "    }\n",
              "\n",
              "    .dataframe thead th {\n",
              "        text-align: right;\n",
              "    }\n",
              "</style>\n",
              "<table border=\"1\" class=\"dataframe\">\n",
              "  <thead>\n",
              "    <tr style=\"text-align: right;\">\n",
              "      <th></th>\n",
              "      <th>datetime</th>\n",
              "      <th>city</th>\n",
              "      <th>state</th>\n",
              "      <th>country</th>\n",
              "      <th>shape</th>\n",
              "      <th>duration (seconds)</th>\n",
              "      <th>duration (hours/min)</th>\n",
              "      <th>comments</th>\n",
              "      <th>date posted</th>\n",
              "      <th>latitude</th>\n",
              "      <th>longitude</th>\n",
              "    </tr>\n",
              "  </thead>\n",
              "  <tbody>\n",
              "    <tr>\n",
              "      <th>80327</th>\n",
              "      <td>2013-09-09 21:15:00</td>\n",
              "      <td>nashville</td>\n",
              "      <td>tn</td>\n",
              "      <td>us</td>\n",
              "      <td>light</td>\n",
              "      <td>600</td>\n",
              "      <td>10 minutes</td>\n",
              "      <td>Round from the distance/slowly changing colors...</td>\n",
              "      <td>2013-09-30</td>\n",
              "      <td>36.1658</td>\n",
              "      <td>-86.784444</td>\n",
              "    </tr>\n",
              "    <tr>\n",
              "      <th>80328</th>\n",
              "      <td>2013-09-09 22:00:00</td>\n",
              "      <td>boise</td>\n",
              "      <td>id</td>\n",
              "      <td>us</td>\n",
              "      <td>circle</td>\n",
              "      <td>1200</td>\n",
              "      <td>20 minutes</td>\n",
              "      <td>Boise&amp;#44 ID&amp;#44 spherical&amp;#44 20 min&amp;#44 10 r...</td>\n",
              "      <td>2013-09-30</td>\n",
              "      <td>43.6136</td>\n",
              "      <td>-116.202500</td>\n",
              "    </tr>\n",
              "    <tr>\n",
              "      <th>80329</th>\n",
              "      <td>2013-09-09 22:00:00</td>\n",
              "      <td>napa</td>\n",
              "      <td>ca</td>\n",
              "      <td>us</td>\n",
              "      <td>other</td>\n",
              "      <td>1200</td>\n",
              "      <td>hour</td>\n",
              "      <td>Napa UFO&amp;#44</td>\n",
              "      <td>2013-09-30</td>\n",
              "      <td>38.2972</td>\n",
              "      <td>-122.284444</td>\n",
              "    </tr>\n",
              "    <tr>\n",
              "      <th>80330</th>\n",
              "      <td>2013-09-09 22:20:00</td>\n",
              "      <td>vienna</td>\n",
              "      <td>va</td>\n",
              "      <td>us</td>\n",
              "      <td>circle</td>\n",
              "      <td>5</td>\n",
              "      <td>5 seconds</td>\n",
              "      <td>Saw a five gold lit cicular craft moving fastl...</td>\n",
              "      <td>2013-09-30</td>\n",
              "      <td>38.9011</td>\n",
              "      <td>-77.265556</td>\n",
              "    </tr>\n",
              "    <tr>\n",
              "      <th>80331</th>\n",
              "      <td>2013-09-09 23:00:00</td>\n",
              "      <td>edmond</td>\n",
              "      <td>ok</td>\n",
              "      <td>us</td>\n",
              "      <td>cigar</td>\n",
              "      <td>1020</td>\n",
              "      <td>17 minutes</td>\n",
              "      <td>2 witnesses 2  miles apart&amp;#44 Red &amp;amp; White...</td>\n",
              "      <td>2013-09-30</td>\n",
              "      <td>35.6528</td>\n",
              "      <td>-97.477778</td>\n",
              "    </tr>\n",
              "  </tbody>\n",
              "</table>\n",
              "</div>"
            ],
            "text/plain": [
              "                  datetime       city state  ... date posted latitude  longitude \n",
              "80327  2013-09-09 21:15:00  nashville    tn  ...  2013-09-30  36.1658  -86.784444\n",
              "80328  2013-09-09 22:00:00      boise    id  ...  2013-09-30  43.6136 -116.202500\n",
              "80329  2013-09-09 22:00:00       napa    ca  ...  2013-09-30  38.2972 -122.284444\n",
              "80330  2013-09-09 22:20:00     vienna    va  ...  2013-09-30  38.9011  -77.265556\n",
              "80331  2013-09-09 23:00:00     edmond    ok  ...  2013-09-30  35.6528  -97.477778\n",
              "\n",
              "[5 rows x 11 columns]"
            ]
          },
          "metadata": {
            "tags": []
          },
          "execution_count": 4
        }
      ]
    },
    {
      "cell_type": "code",
      "metadata": {
        "colab": {
          "base_uri": "https://localhost:8080/"
        },
        "id": "F0fFO7A-y4nR",
        "outputId": "595e2c19-a6ba-4b9f-9725-04622d6cdd24"
      },
      "source": [
        "df.info()"
      ],
      "execution_count": 5,
      "outputs": [
        {
          "output_type": "stream",
          "text": [
            "<class 'pandas.core.frame.DataFrame'>\n",
            "RangeIndex: 80332 entries, 0 to 80331\n",
            "Data columns (total 11 columns):\n",
            " #   Column                Non-Null Count  Dtype  \n",
            "---  ------                --------------  -----  \n",
            " 0   datetime              80332 non-null  object \n",
            " 1   city                  80332 non-null  object \n",
            " 2   state                 74535 non-null  object \n",
            " 3   country               70662 non-null  object \n",
            " 4   shape                 78400 non-null  object \n",
            " 5   duration (seconds)    80332 non-null  object \n",
            " 6   duration (hours/min)  80332 non-null  object \n",
            " 7   comments              80317 non-null  object \n",
            " 8   date posted           80332 non-null  object \n",
            " 9   latitude              80332 non-null  object \n",
            " 10  longitude             80332 non-null  float64\n",
            "dtypes: float64(1), object(10)\n",
            "memory usage: 6.7+ MB\n"
          ],
          "name": "stdout"
        }
      ]
    },
    {
      "cell_type": "code",
      "metadata": {
        "colab": {
          "base_uri": "https://localhost:8080/"
        },
        "id": "DuWcu8lEy_NK",
        "outputId": "bdbf92a7-5aed-47d7-d2dd-62b7f65e2f53"
      },
      "source": [
        "df.dtypes"
      ],
      "execution_count": 6,
      "outputs": [
        {
          "output_type": "execute_result",
          "data": {
            "text/plain": [
              "datetime                 object\n",
              "city                     object\n",
              "state                    object\n",
              "country                  object\n",
              "shape                    object\n",
              "duration (seconds)       object\n",
              "duration (hours/min)     object\n",
              "comments                 object\n",
              "date posted              object\n",
              "latitude                 object\n",
              "longitude               float64\n",
              "dtype: object"
            ]
          },
          "metadata": {
            "tags": []
          },
          "execution_count": 6
        }
      ]
    },
    {
      "cell_type": "code",
      "metadata": {
        "colab": {
          "base_uri": "https://localhost:8080/"
        },
        "id": "JgNxQOwE0UNv",
        "outputId": "caa455b9-be17-4659-d15c-86b6040a8356"
      },
      "source": [
        "df.isnull().sum()"
      ],
      "execution_count": 7,
      "outputs": [
        {
          "output_type": "execute_result",
          "data": {
            "text/plain": [
              "datetime                   0\n",
              "city                       0\n",
              "state                   5797\n",
              "country                 9670\n",
              "shape                   1932\n",
              "duration (seconds)         0\n",
              "duration (hours/min)       0\n",
              "comments                  15\n",
              "date posted                0\n",
              "latitude                   0\n",
              "longitude                  0\n",
              "dtype: int64"
            ]
          },
          "metadata": {
            "tags": []
          },
          "execution_count": 7
        }
      ]
    },
    {
      "cell_type": "code",
      "metadata": {
        "colab": {
          "base_uri": "https://localhost:8080/",
          "height": 373
        },
        "id": "CMbPbWdMCtPH",
        "outputId": "bbc162f8-772c-4d9a-84c5-ef065b28cc28"
      },
      "source": [
        "df.describe(include='all')"
      ],
      "execution_count": 8,
      "outputs": [
        {
          "output_type": "execute_result",
          "data": {
            "text/html": [
              "<div>\n",
              "<style scoped>\n",
              "    .dataframe tbody tr th:only-of-type {\n",
              "        vertical-align: middle;\n",
              "    }\n",
              "\n",
              "    .dataframe tbody tr th {\n",
              "        vertical-align: top;\n",
              "    }\n",
              "\n",
              "    .dataframe thead th {\n",
              "        text-align: right;\n",
              "    }\n",
              "</style>\n",
              "<table border=\"1\" class=\"dataframe\">\n",
              "  <thead>\n",
              "    <tr style=\"text-align: right;\">\n",
              "      <th></th>\n",
              "      <th>datetime</th>\n",
              "      <th>city</th>\n",
              "      <th>state</th>\n",
              "      <th>country</th>\n",
              "      <th>shape</th>\n",
              "      <th>duration (seconds)</th>\n",
              "      <th>duration (hours/min)</th>\n",
              "      <th>comments</th>\n",
              "      <th>date posted</th>\n",
              "      <th>latitude</th>\n",
              "      <th>longitude</th>\n",
              "    </tr>\n",
              "  </thead>\n",
              "  <tbody>\n",
              "    <tr>\n",
              "      <th>count</th>\n",
              "      <td>80332</td>\n",
              "      <td>80332</td>\n",
              "      <td>74535</td>\n",
              "      <td>70662</td>\n",
              "      <td>78400</td>\n",
              "      <td>80332</td>\n",
              "      <td>80332</td>\n",
              "      <td>80317</td>\n",
              "      <td>80332</td>\n",
              "      <td>80332</td>\n",
              "      <td>80332.000000</td>\n",
              "    </tr>\n",
              "    <tr>\n",
              "      <th>unique</th>\n",
              "      <td>69474</td>\n",
              "      <td>19900</td>\n",
              "      <td>67</td>\n",
              "      <td>5</td>\n",
              "      <td>29</td>\n",
              "      <td>705</td>\n",
              "      <td>8304</td>\n",
              "      <td>79997</td>\n",
              "      <td>317</td>\n",
              "      <td>23292</td>\n",
              "      <td>NaN</td>\n",
              "    </tr>\n",
              "    <tr>\n",
              "      <th>top</th>\n",
              "      <td>2010-07-04 22:00:00</td>\n",
              "      <td>seattle</td>\n",
              "      <td>ca</td>\n",
              "      <td>us</td>\n",
              "      <td>light</td>\n",
              "      <td>300</td>\n",
              "      <td>5 minutes</td>\n",
              "      <td>Fireball</td>\n",
              "      <td>2009-12-12</td>\n",
              "      <td>47.6063889</td>\n",
              "      <td>NaN</td>\n",
              "    </tr>\n",
              "    <tr>\n",
              "      <th>freq</th>\n",
              "      <td>36</td>\n",
              "      <td>525</td>\n",
              "      <td>9655</td>\n",
              "      <td>65114</td>\n",
              "      <td>16565</td>\n",
              "      <td>7070</td>\n",
              "      <td>4716</td>\n",
              "      <td>11</td>\n",
              "      <td>1510</td>\n",
              "      <td>481</td>\n",
              "      <td>NaN</td>\n",
              "    </tr>\n",
              "    <tr>\n",
              "      <th>mean</th>\n",
              "      <td>NaN</td>\n",
              "      <td>NaN</td>\n",
              "      <td>NaN</td>\n",
              "      <td>NaN</td>\n",
              "      <td>NaN</td>\n",
              "      <td>NaN</td>\n",
              "      <td>NaN</td>\n",
              "      <td>NaN</td>\n",
              "      <td>NaN</td>\n",
              "      <td>NaN</td>\n",
              "      <td>-86.772885</td>\n",
              "    </tr>\n",
              "    <tr>\n",
              "      <th>std</th>\n",
              "      <td>NaN</td>\n",
              "      <td>NaN</td>\n",
              "      <td>NaN</td>\n",
              "      <td>NaN</td>\n",
              "      <td>NaN</td>\n",
              "      <td>NaN</td>\n",
              "      <td>NaN</td>\n",
              "      <td>NaN</td>\n",
              "      <td>NaN</td>\n",
              "      <td>NaN</td>\n",
              "      <td>39.697205</td>\n",
              "    </tr>\n",
              "    <tr>\n",
              "      <th>min</th>\n",
              "      <td>NaN</td>\n",
              "      <td>NaN</td>\n",
              "      <td>NaN</td>\n",
              "      <td>NaN</td>\n",
              "      <td>NaN</td>\n",
              "      <td>NaN</td>\n",
              "      <td>NaN</td>\n",
              "      <td>NaN</td>\n",
              "      <td>NaN</td>\n",
              "      <td>NaN</td>\n",
              "      <td>-176.658056</td>\n",
              "    </tr>\n",
              "    <tr>\n",
              "      <th>25%</th>\n",
              "      <td>NaN</td>\n",
              "      <td>NaN</td>\n",
              "      <td>NaN</td>\n",
              "      <td>NaN</td>\n",
              "      <td>NaN</td>\n",
              "      <td>NaN</td>\n",
              "      <td>NaN</td>\n",
              "      <td>NaN</td>\n",
              "      <td>NaN</td>\n",
              "      <td>NaN</td>\n",
              "      <td>-112.073333</td>\n",
              "    </tr>\n",
              "    <tr>\n",
              "      <th>50%</th>\n",
              "      <td>NaN</td>\n",
              "      <td>NaN</td>\n",
              "      <td>NaN</td>\n",
              "      <td>NaN</td>\n",
              "      <td>NaN</td>\n",
              "      <td>NaN</td>\n",
              "      <td>NaN</td>\n",
              "      <td>NaN</td>\n",
              "      <td>NaN</td>\n",
              "      <td>NaN</td>\n",
              "      <td>-87.903611</td>\n",
              "    </tr>\n",
              "    <tr>\n",
              "      <th>75%</th>\n",
              "      <td>NaN</td>\n",
              "      <td>NaN</td>\n",
              "      <td>NaN</td>\n",
              "      <td>NaN</td>\n",
              "      <td>NaN</td>\n",
              "      <td>NaN</td>\n",
              "      <td>NaN</td>\n",
              "      <td>NaN</td>\n",
              "      <td>NaN</td>\n",
              "      <td>NaN</td>\n",
              "      <td>-78.755000</td>\n",
              "    </tr>\n",
              "    <tr>\n",
              "      <th>max</th>\n",
              "      <td>NaN</td>\n",
              "      <td>NaN</td>\n",
              "      <td>NaN</td>\n",
              "      <td>NaN</td>\n",
              "      <td>NaN</td>\n",
              "      <td>NaN</td>\n",
              "      <td>NaN</td>\n",
              "      <td>NaN</td>\n",
              "      <td>NaN</td>\n",
              "      <td>NaN</td>\n",
              "      <td>178.441900</td>\n",
              "    </tr>\n",
              "  </tbody>\n",
              "</table>\n",
              "</div>"
            ],
            "text/plain": [
              "                   datetime     city  ...    latitude    longitude \n",
              "count                 80332    80332  ...       80332  80332.000000\n",
              "unique                69474    19900  ...       23292           NaN\n",
              "top     2010-07-04 22:00:00  seattle  ...  47.6063889           NaN\n",
              "freq                     36      525  ...         481           NaN\n",
              "mean                    NaN      NaN  ...         NaN    -86.772885\n",
              "std                     NaN      NaN  ...         NaN     39.697205\n",
              "min                     NaN      NaN  ...         NaN   -176.658056\n",
              "25%                     NaN      NaN  ...         NaN   -112.073333\n",
              "50%                     NaN      NaN  ...         NaN    -87.903611\n",
              "75%                     NaN      NaN  ...         NaN    -78.755000\n",
              "max                     NaN      NaN  ...         NaN    178.441900\n",
              "\n",
              "[11 rows x 11 columns]"
            ]
          },
          "metadata": {
            "tags": []
          },
          "execution_count": 8
        }
      ]
    },
    {
      "cell_type": "markdown",
      "metadata": {
        "id": "gZzA_K0UC_rQ"
      },
      "source": [
        "### Tratamento dos Dados"
      ]
    },
    {
      "cell_type": "code",
      "metadata": {
        "id": "IaRVyaGNzZnt"
      },
      "source": [
        "# Ajustando as colunas"
      ],
      "execution_count": 9,
      "outputs": []
    },
    {
      "cell_type": "code",
      "metadata": {
        "id": "CAysixSBznUu"
      },
      "source": [
        "df.rename(columns={'duration (seconds)' : 'duration_seconds', 'duration (hours/min)' : 'duration_hours_min', 'date posted' : 'date_posted'}, inplace=True)"
      ],
      "execution_count": 10,
      "outputs": []
    },
    {
      "cell_type": "code",
      "metadata": {
        "colab": {
          "base_uri": "https://localhost:8080/",
          "height": 279
        },
        "id": "6hp1-Hqlz_45",
        "outputId": "47ded1ad-ef58-43d7-e9af-2592cff6abd7"
      },
      "source": [
        "df.head()"
      ],
      "execution_count": 11,
      "outputs": [
        {
          "output_type": "execute_result",
          "data": {
            "text/html": [
              "<div>\n",
              "<style scoped>\n",
              "    .dataframe tbody tr th:only-of-type {\n",
              "        vertical-align: middle;\n",
              "    }\n",
              "\n",
              "    .dataframe tbody tr th {\n",
              "        vertical-align: top;\n",
              "    }\n",
              "\n",
              "    .dataframe thead th {\n",
              "        text-align: right;\n",
              "    }\n",
              "</style>\n",
              "<table border=\"1\" class=\"dataframe\">\n",
              "  <thead>\n",
              "    <tr style=\"text-align: right;\">\n",
              "      <th></th>\n",
              "      <th>datetime</th>\n",
              "      <th>city</th>\n",
              "      <th>state</th>\n",
              "      <th>country</th>\n",
              "      <th>shape</th>\n",
              "      <th>duration_seconds</th>\n",
              "      <th>duration_hours_min</th>\n",
              "      <th>comments</th>\n",
              "      <th>date_posted</th>\n",
              "      <th>latitude</th>\n",
              "      <th>longitude</th>\n",
              "    </tr>\n",
              "  </thead>\n",
              "  <tbody>\n",
              "    <tr>\n",
              "      <th>0</th>\n",
              "      <td>1949-10-10 20:30:00</td>\n",
              "      <td>san marcos</td>\n",
              "      <td>tx</td>\n",
              "      <td>us</td>\n",
              "      <td>cylinder</td>\n",
              "      <td>2700</td>\n",
              "      <td>45 minutes</td>\n",
              "      <td>This event took place in early fall around 194...</td>\n",
              "      <td>2004-04-27</td>\n",
              "      <td>29.8830556</td>\n",
              "      <td>-97.941111</td>\n",
              "    </tr>\n",
              "    <tr>\n",
              "      <th>1</th>\n",
              "      <td>1949-10-10 21:00:00</td>\n",
              "      <td>lackland afb</td>\n",
              "      <td>tx</td>\n",
              "      <td>NaN</td>\n",
              "      <td>light</td>\n",
              "      <td>7200</td>\n",
              "      <td>1-2 hrs</td>\n",
              "      <td>1949 Lackland AFB&amp;#44 TX.  Lights racing acros...</td>\n",
              "      <td>2005-12-16</td>\n",
              "      <td>29.38421</td>\n",
              "      <td>-98.581082</td>\n",
              "    </tr>\n",
              "    <tr>\n",
              "      <th>2</th>\n",
              "      <td>1955-10-10 17:00:00</td>\n",
              "      <td>chester (uk/england)</td>\n",
              "      <td>NaN</td>\n",
              "      <td>gb</td>\n",
              "      <td>circle</td>\n",
              "      <td>20</td>\n",
              "      <td>20 seconds</td>\n",
              "      <td>Green/Orange circular disc over Chester&amp;#44 En...</td>\n",
              "      <td>2008-01-21</td>\n",
              "      <td>53.2</td>\n",
              "      <td>-2.916667</td>\n",
              "    </tr>\n",
              "    <tr>\n",
              "      <th>3</th>\n",
              "      <td>1956-10-10 21:00:00</td>\n",
              "      <td>edna</td>\n",
              "      <td>tx</td>\n",
              "      <td>us</td>\n",
              "      <td>circle</td>\n",
              "      <td>20</td>\n",
              "      <td>1/2 hour</td>\n",
              "      <td>My older brother and twin sister were leaving ...</td>\n",
              "      <td>2004-01-17</td>\n",
              "      <td>28.9783333</td>\n",
              "      <td>-96.645833</td>\n",
              "    </tr>\n",
              "    <tr>\n",
              "      <th>4</th>\n",
              "      <td>1960-10-10 20:00:00</td>\n",
              "      <td>kaneohe</td>\n",
              "      <td>hi</td>\n",
              "      <td>us</td>\n",
              "      <td>light</td>\n",
              "      <td>900</td>\n",
              "      <td>15 minutes</td>\n",
              "      <td>AS a Marine 1st Lt. flying an FJ4B fighter/att...</td>\n",
              "      <td>2004-01-22</td>\n",
              "      <td>21.4180556</td>\n",
              "      <td>-157.803611</td>\n",
              "    </tr>\n",
              "  </tbody>\n",
              "</table>\n",
              "</div>"
            ],
            "text/plain": [
              "              datetime                  city  ...    latitude  longitude \n",
              "0  1949-10-10 20:30:00            san marcos  ...  29.8830556  -97.941111\n",
              "1  1949-10-10 21:00:00          lackland afb  ...    29.38421  -98.581082\n",
              "2  1955-10-10 17:00:00  chester (uk/england)  ...        53.2   -2.916667\n",
              "3  1956-10-10 21:00:00                  edna  ...  28.9783333  -96.645833\n",
              "4  1960-10-10 20:00:00               kaneohe  ...  21.4180556 -157.803611\n",
              "\n",
              "[5 rows x 11 columns]"
            ]
          },
          "metadata": {
            "tags": []
          },
          "execution_count": 11
        }
      ]
    },
    {
      "cell_type": "code",
      "metadata": {
        "id": "hgTFz7R70EZZ"
      },
      "source": [
        "# Ajustando os tipos de dados"
      ],
      "execution_count": 12,
      "outputs": []
    },
    {
      "cell_type": "code",
      "metadata": {
        "colab": {
          "base_uri": "https://localhost:8080/"
        },
        "id": "f9Jrs0qx0Jr-",
        "outputId": "b6f03e56-7f62-4f36-997d-590c09d6c4bc"
      },
      "source": [
        "df.datetime.isnull().sum()"
      ],
      "execution_count": 13,
      "outputs": [
        {
          "output_type": "execute_result",
          "data": {
            "text/plain": [
              "0"
            ]
          },
          "metadata": {
            "tags": []
          },
          "execution_count": 13
        }
      ]
    },
    {
      "cell_type": "code",
      "metadata": {
        "id": "FIdL-ZIs0sX0"
      },
      "source": [
        "df['datetime'] = pd.to_datetime(df['datetime'])"
      ],
      "execution_count": 14,
      "outputs": []
    },
    {
      "cell_type": "code",
      "metadata": {
        "colab": {
          "base_uri": "https://localhost:8080/"
        },
        "id": "He6pL3Kw2KJP",
        "outputId": "91f1fef9-b9fa-47b3-8495-31798e650e78"
      },
      "source": [
        "df.datetime.head()"
      ],
      "execution_count": 15,
      "outputs": [
        {
          "output_type": "execute_result",
          "data": {
            "text/plain": [
              "0   1949-10-10 20:30:00\n",
              "1   1949-10-10 21:00:00\n",
              "2   1955-10-10 17:00:00\n",
              "3   1956-10-10 21:00:00\n",
              "4   1960-10-10 20:00:00\n",
              "Name: datetime, dtype: datetime64[ns]"
            ]
          },
          "metadata": {
            "tags": []
          },
          "execution_count": 15
        }
      ]
    },
    {
      "cell_type": "code",
      "metadata": {
        "colab": {
          "base_uri": "https://localhost:8080/"
        },
        "id": "ZSsm0Lmy2dmZ",
        "outputId": "9528e5c2-e66b-4b22-962a-eaba98ac4abc"
      },
      "source": [
        "df.dtypes"
      ],
      "execution_count": 16,
      "outputs": [
        {
          "output_type": "execute_result",
          "data": {
            "text/plain": [
              "datetime              datetime64[ns]\n",
              "city                          object\n",
              "state                         object\n",
              "country                       object\n",
              "shape                         object\n",
              "duration_seconds              object\n",
              "duration_hours_min            object\n",
              "comments                      object\n",
              "date_posted                   object\n",
              "latitude                      object\n",
              "longitude                    float64\n",
              "dtype: object"
            ]
          },
          "metadata": {
            "tags": []
          },
          "execution_count": 16
        }
      ]
    },
    {
      "cell_type": "code",
      "metadata": {
        "id": "eyuE4TzRHN3v"
      },
      "source": [
        "# Colocando os valores da colunas City, State, Country em maiúsculo"
      ],
      "execution_count": 17,
      "outputs": []
    },
    {
      "cell_type": "code",
      "metadata": {
        "id": "1OD68qv0HZkn"
      },
      "source": [
        "df['city'] = df['city'].str.upper()\n",
        "df['state'] = df['state'].str.upper()\n",
        "df['country'] = df['country'].str.upper()"
      ],
      "execution_count": 18,
      "outputs": []
    },
    {
      "cell_type": "code",
      "metadata": {
        "id": "KpzAO6Zp2gav"
      },
      "source": [
        "# Irei converter a coluna duration_seconds para minutos e excluir a coluna duration_hours_min\n",
        "# Alguns dados da coluna duration_seconds estão sendo lido como string por causa do símbolo ` que foi preenchido errado. Irei alterar e fazer a conversão"
      ],
      "execution_count": 19,
      "outputs": []
    },
    {
      "cell_type": "code",
      "metadata": {
        "id": "T2_i6w733ACg"
      },
      "source": [
        "df['duration_seconds'] = df['duration_seconds'].str.replace(\"2`\", '2')\n",
        "df['duration_seconds'] = df['duration_seconds'].str.replace(\"8`\", '8')\n",
        "df['duration_seconds'] = df['duration_seconds'].str.replace(\"0.5`\", '0.5')"
      ],
      "execution_count": 20,
      "outputs": []
    },
    {
      "cell_type": "code",
      "metadata": {
        "id": "crIdpaI55F1H"
      },
      "source": [
        "df['duration_seconds'] = df['duration_seconds'].astype(float)"
      ],
      "execution_count": 21,
      "outputs": []
    },
    {
      "cell_type": "code",
      "metadata": {
        "id": "t3pOMrpI9ZQe"
      },
      "source": [
        "df['duration_seconds'] = df['duration_seconds'] /60  #Converti para minutos"
      ],
      "execution_count": 22,
      "outputs": []
    },
    {
      "cell_type": "code",
      "metadata": {
        "id": "H7KUwGZ7BqEj"
      },
      "source": [
        "df.rename(columns={'duration_seconds' : 'duration_minutes'}, inplace=True)"
      ],
      "execution_count": 23,
      "outputs": []
    },
    {
      "cell_type": "code",
      "metadata": {
        "id": "mJc2kVHNBr6P"
      },
      "source": [
        "df['duration_minutes'] = df['duration_minutes'].round(2)"
      ],
      "execution_count": 24,
      "outputs": []
    },
    {
      "cell_type": "code",
      "metadata": {
        "colab": {
          "base_uri": "https://localhost:8080/"
        },
        "id": "2_k547J_Y-nL",
        "outputId": "4386a409-1f38-47ea-905c-483b9c87798c"
      },
      "source": [
        "df.duration_minutes.isnull().sum()"
      ],
      "execution_count": 25,
      "outputs": [
        {
          "output_type": "execute_result",
          "data": {
            "text/plain": [
              "14796"
            ]
          },
          "metadata": {
            "tags": []
          },
          "execution_count": 25
        }
      ]
    },
    {
      "cell_type": "code",
      "metadata": {
        "colab": {
          "base_uri": "https://localhost:8080/"
        },
        "id": "zEvZC51JDTNX",
        "outputId": "486bd7bb-f525-425d-e35e-daf6e2b651e5"
      },
      "source": [
        "df['duration_minutes'].median()"
      ],
      "execution_count": 26,
      "outputs": [
        {
          "output_type": "execute_result",
          "data": {
            "text/plain": [
              "3.0"
            ]
          },
          "metadata": {
            "tags": []
          },
          "execution_count": 26
        }
      ]
    },
    {
      "cell_type": "code",
      "metadata": {
        "colab": {
          "base_uri": "https://localhost:8080/"
        },
        "id": "RqVldTIZEUSi",
        "outputId": "ebc12132-889b-493e-bce9-c60b84d504bf"
      },
      "source": [
        "df['duration_minutes'].isnull().sum()"
      ],
      "execution_count": 27,
      "outputs": [
        {
          "output_type": "execute_result",
          "data": {
            "text/plain": [
              "14796"
            ]
          },
          "metadata": {
            "tags": []
          },
          "execution_count": 27
        }
      ]
    },
    {
      "cell_type": "code",
      "metadata": {
        "id": "6gCEtJBsDlJO"
      },
      "source": [
        "# Inserindo o valor da mediana nos valores vazios\n",
        "df['duration_minutes'].fillna(value= df['duration_minutes'].median(), inplace=True)"
      ],
      "execution_count": 28,
      "outputs": []
    },
    {
      "cell_type": "code",
      "metadata": {
        "colab": {
          "base_uri": "https://localhost:8080/"
        },
        "id": "dcsqA1t4EcBv",
        "outputId": "0ba2258d-df48-4fa1-ddf7-4666f2918779"
      },
      "source": [
        "df['duration_minutes'].isnull().sum()"
      ],
      "execution_count": 29,
      "outputs": [
        {
          "output_type": "execute_result",
          "data": {
            "text/plain": [
              "0"
            ]
          },
          "metadata": {
            "tags": []
          },
          "execution_count": 29
        }
      ]
    },
    {
      "cell_type": "code",
      "metadata": {
        "colab": {
          "base_uri": "https://localhost:8080/"
        },
        "id": "7X2xlLBNbARZ",
        "outputId": "56b517aa-b4e2-497d-e4f0-b2e0f6896562"
      },
      "source": [
        "df['duration_hours_min'].isnull().sum()"
      ],
      "execution_count": 30,
      "outputs": [
        {
          "output_type": "execute_result",
          "data": {
            "text/plain": [
              "0"
            ]
          },
          "metadata": {
            "tags": []
          },
          "execution_count": 30
        }
      ]
    },
    {
      "cell_type": "code",
      "metadata": {
        "id": "0Avd-qhebWus",
        "colab": {
          "base_uri": "https://localhost:8080/"
        },
        "outputId": "274a3cb5-7830-4be5-cbf6-5846e6836477"
      },
      "source": [
        "df['country'].unique()"
      ],
      "execution_count": 31,
      "outputs": [
        {
          "output_type": "execute_result",
          "data": {
            "text/plain": [
              "array(['US', nan, 'GB', 'CA', 'AU', 'DE'], dtype=object)"
            ]
          },
          "metadata": {
            "tags": []
          },
          "execution_count": 31
        }
      ]
    },
    {
      "cell_type": "code",
      "metadata": {
        "colab": {
          "base_uri": "https://localhost:8080/"
        },
        "id": "fu5o3aS88LHe",
        "outputId": "fb18134c-3631-40e2-e4d4-8a3c991a8fe6"
      },
      "source": [
        "df['duration_hours_min'].unique()"
      ],
      "execution_count": 32,
      "outputs": [
        {
          "output_type": "execute_result",
          "data": {
            "text/plain": [
              "array(['45 minutes', '1-2 hrs', '20 seconds', ..., 'approx. 35 mins',\n",
              "       '3 minutes or less', '~1hr+'], dtype=object)"
            ]
          },
          "metadata": {
            "tags": []
          },
          "execution_count": 32
        }
      ]
    },
    {
      "cell_type": "code",
      "metadata": {
        "colab": {
          "base_uri": "https://localhost:8080/"
        },
        "id": "p1xVKsTm9J_S",
        "outputId": "4fc6e293-9c73-4110-aaa0-d6aedc203c68"
      },
      "source": [
        "df['shape'].unique()"
      ],
      "execution_count": 33,
      "outputs": [
        {
          "output_type": "execute_result",
          "data": {
            "text/plain": [
              "array(['cylinder', 'light', 'circle', 'sphere', 'disk', 'fireball',\n",
              "       'unknown', 'oval', 'other', 'cigar', 'rectangle', 'chevron',\n",
              "       'triangle', 'formation', nan, 'delta', 'changing', 'egg',\n",
              "       'diamond', 'flash', 'teardrop', 'cone', 'cross', 'pyramid',\n",
              "       'round', 'crescent', 'flare', 'hexagon', 'dome', 'changed'],\n",
              "      dtype=object)"
            ]
          },
          "metadata": {
            "tags": []
          },
          "execution_count": 33
        }
      ]
    },
    {
      "cell_type": "code",
      "metadata": {
        "id": "XUyed_JLyrrR"
      },
      "source": [
        "df['shape'] = df['shape'].astype(str)"
      ],
      "execution_count": 34,
      "outputs": []
    },
    {
      "cell_type": "code",
      "metadata": {
        "colab": {
          "base_uri": "https://localhost:8080/"
        },
        "id": "qxkqoloi9flg",
        "outputId": "8a7f9671-074c-4b33-c375-afabd7b66f2f"
      },
      "source": [
        "moda_shape = mode(df['shape'])\n",
        "moda_shape"
      ],
      "execution_count": 35,
      "outputs": [
        {
          "output_type": "execute_result",
          "data": {
            "text/plain": [
              "ModeResult(mode=array(['light'], dtype=object), count=array([16565]))"
            ]
          },
          "metadata": {
            "tags": []
          },
          "execution_count": 35
        }
      ]
    },
    {
      "cell_type": "code",
      "metadata": {
        "colab": {
          "base_uri": "https://localhost:8080/"
        },
        "id": "02ZeqT3V-6a7",
        "outputId": "ed5b63a8-e73e-45b4-f72f-b0e370d35b67"
      },
      "source": [
        "df['shape'].count()"
      ],
      "execution_count": 36,
      "outputs": [
        {
          "output_type": "execute_result",
          "data": {
            "text/plain": [
              "80332"
            ]
          },
          "metadata": {
            "tags": []
          },
          "execution_count": 36
        }
      ]
    },
    {
      "cell_type": "code",
      "metadata": {
        "colab": {
          "base_uri": "https://localhost:8080/",
          "height": 570
        },
        "id": "0qkUILZN_8fC",
        "outputId": "c71c8ab9-a695-496e-910c-a9cd23cec882"
      },
      "source": [
        "df[df['shape'] == 'light']"
      ],
      "execution_count": 37,
      "outputs": [
        {
          "output_type": "execute_result",
          "data": {
            "text/html": [
              "<div>\n",
              "<style scoped>\n",
              "    .dataframe tbody tr th:only-of-type {\n",
              "        vertical-align: middle;\n",
              "    }\n",
              "\n",
              "    .dataframe tbody tr th {\n",
              "        vertical-align: top;\n",
              "    }\n",
              "\n",
              "    .dataframe thead th {\n",
              "        text-align: right;\n",
              "    }\n",
              "</style>\n",
              "<table border=\"1\" class=\"dataframe\">\n",
              "  <thead>\n",
              "    <tr style=\"text-align: right;\">\n",
              "      <th></th>\n",
              "      <th>datetime</th>\n",
              "      <th>city</th>\n",
              "      <th>state</th>\n",
              "      <th>country</th>\n",
              "      <th>shape</th>\n",
              "      <th>duration_minutes</th>\n",
              "      <th>duration_hours_min</th>\n",
              "      <th>comments</th>\n",
              "      <th>date_posted</th>\n",
              "      <th>latitude</th>\n",
              "      <th>longitude</th>\n",
              "    </tr>\n",
              "  </thead>\n",
              "  <tbody>\n",
              "    <tr>\n",
              "      <th>1</th>\n",
              "      <td>1949-10-10 21:00:00</td>\n",
              "      <td>LACKLAND AFB</td>\n",
              "      <td>TX</td>\n",
              "      <td>NaN</td>\n",
              "      <td>light</td>\n",
              "      <td>120.00</td>\n",
              "      <td>1-2 hrs</td>\n",
              "      <td>1949 Lackland AFB&amp;#44 TX.  Lights racing acros...</td>\n",
              "      <td>2005-12-16</td>\n",
              "      <td>29.38421</td>\n",
              "      <td>-98.581082</td>\n",
              "    </tr>\n",
              "    <tr>\n",
              "      <th>4</th>\n",
              "      <td>1960-10-10 20:00:00</td>\n",
              "      <td>KANEOHE</td>\n",
              "      <td>HI</td>\n",
              "      <td>US</td>\n",
              "      <td>light</td>\n",
              "      <td>15.00</td>\n",
              "      <td>15 minutes</td>\n",
              "      <td>AS a Marine 1st Lt. flying an FJ4B fighter/att...</td>\n",
              "      <td>2004-01-22</td>\n",
              "      <td>21.4180556</td>\n",
              "      <td>-157.803611</td>\n",
              "    </tr>\n",
              "    <tr>\n",
              "      <th>18</th>\n",
              "      <td>1973-10-10 23:00:00</td>\n",
              "      <td>BERMUDA NAS</td>\n",
              "      <td>NaN</td>\n",
              "      <td>NaN</td>\n",
              "      <td>light</td>\n",
              "      <td>0.33</td>\n",
              "      <td>20 sec.</td>\n",
              "      <td>saw fast moving blip on the radar scope thin w...</td>\n",
              "      <td>2002-01-11</td>\n",
              "      <td>32.364167</td>\n",
              "      <td>-64.678611</td>\n",
              "    </tr>\n",
              "    <tr>\n",
              "      <th>21</th>\n",
              "      <td>1974-10-10 23:00:00</td>\n",
              "      <td>HUDSON</td>\n",
              "      <td>KS</td>\n",
              "      <td>US</td>\n",
              "      <td>light</td>\n",
              "      <td>20.00</td>\n",
              "      <td>one hour?</td>\n",
              "      <td>The light chased us.</td>\n",
              "      <td>2004-07-25</td>\n",
              "      <td>38.1055556</td>\n",
              "      <td>-98.659722</td>\n",
              "    </tr>\n",
              "    <tr>\n",
              "      <th>22</th>\n",
              "      <td>1975-10-10 17:00:00</td>\n",
              "      <td>NORTH CHARLESTON</td>\n",
              "      <td>SC</td>\n",
              "      <td>US</td>\n",
              "      <td>light</td>\n",
              "      <td>6.00</td>\n",
              "      <td>5-6 minutes</td>\n",
              "      <td>Several Flashing UFO lights over Charleston Na...</td>\n",
              "      <td>2008-02-14</td>\n",
              "      <td>32.8544444</td>\n",
              "      <td>-79.975000</td>\n",
              "    </tr>\n",
              "    <tr>\n",
              "      <th>...</th>\n",
              "      <td>...</td>\n",
              "      <td>...</td>\n",
              "      <td>...</td>\n",
              "      <td>...</td>\n",
              "      <td>...</td>\n",
              "      <td>...</td>\n",
              "      <td>...</td>\n",
              "      <td>...</td>\n",
              "      <td>...</td>\n",
              "      <td>...</td>\n",
              "      <td>...</td>\n",
              "    </tr>\n",
              "    <tr>\n",
              "      <th>80312</th>\n",
              "      <td>2012-09-09 23:00:00</td>\n",
              "      <td>GAINESVILLE</td>\n",
              "      <td>GA</td>\n",
              "      <td>US</td>\n",
              "      <td>light</td>\n",
              "      <td>3.00</td>\n",
              "      <td>5 seconds</td>\n",
              "      <td>Ball of light</td>\n",
              "      <td>2012-09-24</td>\n",
              "      <td>34.2978</td>\n",
              "      <td>-83.824167</td>\n",
              "    </tr>\n",
              "    <tr>\n",
              "      <th>80316</th>\n",
              "      <td>2013-09-09 09:51:00</td>\n",
              "      <td>SAN DIEGO</td>\n",
              "      <td>CA</td>\n",
              "      <td>US</td>\n",
              "      <td>light</td>\n",
              "      <td>3.00</td>\n",
              "      <td>~4 seconds</td>\n",
              "      <td>2 white lights zig-zag over Qualcomm Stadium (...</td>\n",
              "      <td>2013-09-30</td>\n",
              "      <td>32.7153</td>\n",
              "      <td>-117.156389</td>\n",
              "    </tr>\n",
              "    <tr>\n",
              "      <th>80322</th>\n",
              "      <td>2013-09-09 21:00:00</td>\n",
              "      <td>ALEKSANDROW (POLAND)</td>\n",
              "      <td>NaN</td>\n",
              "      <td>NaN</td>\n",
              "      <td>light</td>\n",
              "      <td>3.00</td>\n",
              "      <td>15 seconds</td>\n",
              "      <td>Two points of light following one another in a...</td>\n",
              "      <td>2013-09-30</td>\n",
              "      <td>50.4658</td>\n",
              "      <td>22.891814</td>\n",
              "    </tr>\n",
              "    <tr>\n",
              "      <th>80324</th>\n",
              "      <td>2013-09-09 21:00:00</td>\n",
              "      <td>HAMSTEAD (HOLLYRIDGE)</td>\n",
              "      <td>NC</td>\n",
              "      <td>NaN</td>\n",
              "      <td>light</td>\n",
              "      <td>3.00</td>\n",
              "      <td>2 minutes</td>\n",
              "      <td>8 to ten lights bright orange in color large t...</td>\n",
              "      <td>2013-09-30</td>\n",
              "      <td>34.3676</td>\n",
              "      <td>-77.710548</td>\n",
              "    </tr>\n",
              "    <tr>\n",
              "      <th>80327</th>\n",
              "      <td>2013-09-09 21:15:00</td>\n",
              "      <td>NASHVILLE</td>\n",
              "      <td>TN</td>\n",
              "      <td>US</td>\n",
              "      <td>light</td>\n",
              "      <td>3.00</td>\n",
              "      <td>10 minutes</td>\n",
              "      <td>Round from the distance/slowly changing colors...</td>\n",
              "      <td>2013-09-30</td>\n",
              "      <td>36.1658</td>\n",
              "      <td>-86.784444</td>\n",
              "    </tr>\n",
              "  </tbody>\n",
              "</table>\n",
              "<p>16565 rows × 11 columns</p>\n",
              "</div>"
            ],
            "text/plain": [
              "                 datetime                   city  ...    latitude  longitude \n",
              "1     1949-10-10 21:00:00           LACKLAND AFB  ...    29.38421  -98.581082\n",
              "4     1960-10-10 20:00:00                KANEOHE  ...  21.4180556 -157.803611\n",
              "18    1973-10-10 23:00:00            BERMUDA NAS  ...   32.364167  -64.678611\n",
              "21    1974-10-10 23:00:00                 HUDSON  ...  38.1055556  -98.659722\n",
              "22    1975-10-10 17:00:00       NORTH CHARLESTON  ...  32.8544444  -79.975000\n",
              "...                   ...                    ...  ...         ...         ...\n",
              "80312 2012-09-09 23:00:00            GAINESVILLE  ...     34.2978  -83.824167\n",
              "80316 2013-09-09 09:51:00              SAN DIEGO  ...     32.7153 -117.156389\n",
              "80322 2013-09-09 21:00:00   ALEKSANDROW (POLAND)  ...     50.4658   22.891814\n",
              "80324 2013-09-09 21:00:00  HAMSTEAD (HOLLYRIDGE)  ...     34.3676  -77.710548\n",
              "80327 2013-09-09 21:15:00              NASHVILLE  ...     36.1658  -86.784444\n",
              "\n",
              "[16565 rows x 11 columns]"
            ]
          },
          "metadata": {
            "tags": []
          },
          "execution_count": 37
        }
      ]
    },
    {
      "cell_type": "code",
      "metadata": {
        "colab": {
          "base_uri": "https://localhost:8080/"
        },
        "id": "xoQRRC4pAMO6",
        "outputId": "99285cb3-2981-4d0d-9ea0-f49c32facaaf"
      },
      "source": [
        "moda_country = mode(df['country'])\n",
        "moda_country"
      ],
      "execution_count": 38,
      "outputs": [
        {
          "output_type": "execute_result",
          "data": {
            "text/plain": [
              "ModeResult(mode=array(['US'], dtype=object), count=array([65114]))"
            ]
          },
          "metadata": {
            "tags": []
          },
          "execution_count": 38
        }
      ]
    },
    {
      "cell_type": "code",
      "metadata": {
        "colab": {
          "base_uri": "https://localhost:8080/",
          "height": 537
        },
        "id": "u15kffXDwhSC",
        "outputId": "e20f4b74-21a3-4f2f-e493-3496f3e2b20e"
      },
      "source": [
        "df['shape'].value_counts(ascending= True).plot(figsize=(15, 8), kind= 'bar', title= 'Formato dos UFOs');"
      ],
      "execution_count": 39,
      "outputs": [
        {
          "output_type": "display_data",
          "data": {
            "image/png": "[encoded data removed]",
            "text/plain": [
              "<Figure size 1080x576 with 1 Axes>"
            ]
          },
          "metadata": {
            "tags": [],
            "needs_background": "light"
          }
        }
      ]
    },
    {
      "cell_type": "code",
      "metadata": {
        "id": "X1zfdihs9hbK",
        "colab": {
          "base_uri": "https://localhost:8080/",
          "height": 503
        },
        "outputId": "d58ca990-acb5-4414-965d-eb617ba7d67f"
      },
      "source": [
        "df['country'].value_counts(ascending= True).plot(figsize=(15, 8),kind= 'bar', title= 'Países com maior registro de Avistamento');"
      ],
      "execution_count": 40,
      "outputs": [
        {
          "output_type": "display_data",
          "data": {
            "image/png": "[encoded data removed]",
            "text/plain": [
              "<Figure size 1080x576 with 1 Axes>"
            ]
          },
          "metadata": {
            "tags": [],
            "needs_background": "light"
          }
        }
      ]
    },
    {
      "cell_type": "code",
      "metadata": {
        "colab": {
          "base_uri": "https://localhost:8080/"
        },
        "id": "GMBSTNLIGHW2",
        "outputId": "f3f2b141-9826-4a08-b83b-e9e9b33a8936"
      },
      "source": [
        "# Estatísticas de Avistamentos por país\n",
        "df['country'].value_counts().describe()"
      ],
      "execution_count": 41,
      "outputs": [
        {
          "output_type": "execute_result",
          "data": {
            "text/plain": [
              "count        5.000000\n",
              "mean     14132.400000\n",
              "std      28522.529872\n",
              "min        105.000000\n",
              "25%        538.000000\n",
              "50%       1905.000000\n",
              "75%       3000.000000\n",
              "max      65114.000000\n",
              "Name: country, dtype: float64"
            ]
          },
          "metadata": {
            "tags": []
          },
          "execution_count": 41
        }
      ]
    },
    {
      "cell_type": "code",
      "metadata": {
        "id": "mv0Mk0BlJV0I"
      },
      "source": [
        ""
      ],
      "execution_count": 41,
      "outputs": []
    },
    {
      "cell_type": "code",
      "metadata": {
        "colab": {
          "base_uri": "https://localhost:8080/",
          "height": 513
        },
        "id": "oV_mGeNWIqn9",
        "outputId": "1b801862-0985-48e2-f6eb-7c3d38e3c8d7"
      },
      "source": [
        "df[{'country', 'shape'}].value_counts(ascending=True).plot(x= df['country'], y= df['shape'], figsize=(15, 8), kind= 'line', title= 'Formato de UFO por País');"
      ],
      "execution_count": 42,
      "outputs": [
        {
          "output_type": "display_data",
          "data": {
            "image/png": "[encoded data removed]",
            "text/plain": [
              "<Figure size 1080x576 with 1 Axes>"
            ]
          },
          "metadata": {
            "tags": [],
            "needs_background": "light"
          }
        }
      ]
    },
    {
      "cell_type": "code",
      "metadata": {
        "colab": {
          "base_uri": "https://localhost:8080/",
          "height": 570
        },
        "id": "8QKdZgv-LNm2",
        "outputId": "3cafe3fe-b620-4ad9-f49d-a78e1424ebf2"
      },
      "source": [
        "df.loc[df['country'] == 'US']"
      ],
      "execution_count": 43,
      "outputs": [
        {
          "output_type": "execute_result",
          "data": {
            "text/html": [
              "<div>\n",
              "<style scoped>\n",
              "    .dataframe tbody tr th:only-of-type {\n",
              "        vertical-align: middle;\n",
              "    }\n",
              "\n",
              "    .dataframe tbody tr th {\n",
              "        vertical-align: top;\n",
              "    }\n",
              "\n",
              "    .dataframe thead th {\n",
              "        text-align: right;\n",
              "    }\n",
              "</style>\n",
              "<table border=\"1\" class=\"dataframe\">\n",
              "  <thead>\n",
              "    <tr style=\"text-align: right;\">\n",
              "      <th></th>\n",
              "      <th>datetime</th>\n",
              "      <th>city</th>\n",
              "      <th>state</th>\n",
              "      <th>country</th>\n",
              "      <th>shape</th>\n",
              "      <th>duration_minutes</th>\n",
              "      <th>duration_hours_min</th>\n",
              "      <th>comments</th>\n",
              "      <th>date_posted</th>\n",
              "      <th>latitude</th>\n",
              "      <th>longitude</th>\n",
              "    </tr>\n",
              "  </thead>\n",
              "  <tbody>\n",
              "    <tr>\n",
              "      <th>0</th>\n",
              "      <td>1949-10-10 20:30:00</td>\n",
              "      <td>SAN MARCOS</td>\n",
              "      <td>TX</td>\n",
              "      <td>US</td>\n",
              "      <td>cylinder</td>\n",
              "      <td>45.00</td>\n",
              "      <td>45 minutes</td>\n",
              "      <td>This event took place in early fall around 194...</td>\n",
              "      <td>2004-04-27</td>\n",
              "      <td>29.8830556</td>\n",
              "      <td>-97.941111</td>\n",
              "    </tr>\n",
              "    <tr>\n",
              "      <th>3</th>\n",
              "      <td>1956-10-10 21:00:00</td>\n",
              "      <td>EDNA</td>\n",
              "      <td>TX</td>\n",
              "      <td>US</td>\n",
              "      <td>circle</td>\n",
              "      <td>0.33</td>\n",
              "      <td>1/2 hour</td>\n",
              "      <td>My older brother and twin sister were leaving ...</td>\n",
              "      <td>2004-01-17</td>\n",
              "      <td>28.9783333</td>\n",
              "      <td>-96.645833</td>\n",
              "    </tr>\n",
              "    <tr>\n",
              "      <th>4</th>\n",
              "      <td>1960-10-10 20:00:00</td>\n",
              "      <td>KANEOHE</td>\n",
              "      <td>HI</td>\n",
              "      <td>US</td>\n",
              "      <td>light</td>\n",
              "      <td>15.00</td>\n",
              "      <td>15 minutes</td>\n",
              "      <td>AS a Marine 1st Lt. flying an FJ4B fighter/att...</td>\n",
              "      <td>2004-01-22</td>\n",
              "      <td>21.4180556</td>\n",
              "      <td>-157.803611</td>\n",
              "    </tr>\n",
              "    <tr>\n",
              "      <th>5</th>\n",
              "      <td>1961-10-10 19:00:00</td>\n",
              "      <td>BRISTOL</td>\n",
              "      <td>TN</td>\n",
              "      <td>US</td>\n",
              "      <td>sphere</td>\n",
              "      <td>5.00</td>\n",
              "      <td>5 minutes</td>\n",
              "      <td>My father is now 89 my brother 52 the girl wit...</td>\n",
              "      <td>2007-04-27</td>\n",
              "      <td>36.595</td>\n",
              "      <td>-82.188889</td>\n",
              "    </tr>\n",
              "    <tr>\n",
              "      <th>7</th>\n",
              "      <td>1965-10-10 23:45:00</td>\n",
              "      <td>NORWALK</td>\n",
              "      <td>CT</td>\n",
              "      <td>US</td>\n",
              "      <td>disk</td>\n",
              "      <td>20.00</td>\n",
              "      <td>20 minutes</td>\n",
              "      <td>A bright orange color changing to reddish colo...</td>\n",
              "      <td>1999-10-02</td>\n",
              "      <td>41.1175</td>\n",
              "      <td>-73.408333</td>\n",
              "    </tr>\n",
              "    <tr>\n",
              "      <th>...</th>\n",
              "      <td>...</td>\n",
              "      <td>...</td>\n",
              "      <td>...</td>\n",
              "      <td>...</td>\n",
              "      <td>...</td>\n",
              "      <td>...</td>\n",
              "      <td>...</td>\n",
              "      <td>...</td>\n",
              "      <td>...</td>\n",
              "      <td>...</td>\n",
              "      <td>...</td>\n",
              "    </tr>\n",
              "    <tr>\n",
              "      <th>80327</th>\n",
              "      <td>2013-09-09 21:15:00</td>\n",
              "      <td>NASHVILLE</td>\n",
              "      <td>TN</td>\n",
              "      <td>US</td>\n",
              "      <td>light</td>\n",
              "      <td>3.00</td>\n",
              "      <td>10 minutes</td>\n",
              "      <td>Round from the distance/slowly changing colors...</td>\n",
              "      <td>2013-09-30</td>\n",
              "      <td>36.1658</td>\n",
              "      <td>-86.784444</td>\n",
              "    </tr>\n",
              "    <tr>\n",
              "      <th>80328</th>\n",
              "      <td>2013-09-09 22:00:00</td>\n",
              "      <td>BOISE</td>\n",
              "      <td>ID</td>\n",
              "      <td>US</td>\n",
              "      <td>circle</td>\n",
              "      <td>3.00</td>\n",
              "      <td>20 minutes</td>\n",
              "      <td>Boise&amp;#44 ID&amp;#44 spherical&amp;#44 20 min&amp;#44 10 r...</td>\n",
              "      <td>2013-09-30</td>\n",
              "      <td>43.6136</td>\n",
              "      <td>-116.202500</td>\n",
              "    </tr>\n",
              "    <tr>\n",
              "      <th>80329</th>\n",
              "      <td>2013-09-09 22:00:00</td>\n",
              "      <td>NAPA</td>\n",
              "      <td>CA</td>\n",
              "      <td>US</td>\n",
              "      <td>other</td>\n",
              "      <td>3.00</td>\n",
              "      <td>hour</td>\n",
              "      <td>Napa UFO&amp;#44</td>\n",
              "      <td>2013-09-30</td>\n",
              "      <td>38.2972</td>\n",
              "      <td>-122.284444</td>\n",
              "    </tr>\n",
              "    <tr>\n",
              "      <th>80330</th>\n",
              "      <td>2013-09-09 22:20:00</td>\n",
              "      <td>VIENNA</td>\n",
              "      <td>VA</td>\n",
              "      <td>US</td>\n",
              "      <td>circle</td>\n",
              "      <td>3.00</td>\n",
              "      <td>5 seconds</td>\n",
              "      <td>Saw a five gold lit cicular craft moving fastl...</td>\n",
              "      <td>2013-09-30</td>\n",
              "      <td>38.9011</td>\n",
              "      <td>-77.265556</td>\n",
              "    </tr>\n",
              "    <tr>\n",
              "      <th>80331</th>\n",
              "      <td>2013-09-09 23:00:00</td>\n",
              "      <td>EDMOND</td>\n",
              "      <td>OK</td>\n",
              "      <td>US</td>\n",
              "      <td>cigar</td>\n",
              "      <td>3.00</td>\n",
              "      <td>17 minutes</td>\n",
              "      <td>2 witnesses 2  miles apart&amp;#44 Red &amp;amp; White...</td>\n",
              "      <td>2013-09-30</td>\n",
              "      <td>35.6528</td>\n",
              "      <td>-97.477778</td>\n",
              "    </tr>\n",
              "  </tbody>\n",
              "</table>\n",
              "<p>65114 rows × 11 columns</p>\n",
              "</div>"
            ],
            "text/plain": [
              "                 datetime        city state  ... date_posted    latitude  longitude \n",
              "0     1949-10-10 20:30:00  SAN MARCOS    TX  ...  2004-04-27  29.8830556  -97.941111\n",
              "3     1956-10-10 21:00:00        EDNA    TX  ...  2004-01-17  28.9783333  -96.645833\n",
              "4     1960-10-10 20:00:00     KANEOHE    HI  ...  2004-01-22  21.4180556 -157.803611\n",
              "5     1961-10-10 19:00:00     BRISTOL    TN  ...  2007-04-27      36.595  -82.188889\n",
              "7     1965-10-10 23:45:00     NORWALK    CT  ...  1999-10-02     41.1175  -73.408333\n",
              "...                   ...         ...   ...  ...         ...         ...         ...\n",
              "80327 2013-09-09 21:15:00   NASHVILLE    TN  ...  2013-09-30     36.1658  -86.784444\n",
              "80328 2013-09-09 22:00:00       BOISE    ID  ...  2013-09-30     43.6136 -116.202500\n",
              "80329 2013-09-09 22:00:00        NAPA    CA  ...  2013-09-30     38.2972 -122.284444\n",
              "80330 2013-09-09 22:20:00      VIENNA    VA  ...  2013-09-30     38.9011  -77.265556\n",
              "80331 2013-09-09 23:00:00      EDMOND    OK  ...  2013-09-30     35.6528  -97.477778\n",
              "\n",
              "[65114 rows x 11 columns]"
            ]
          },
          "metadata": {
            "tags": []
          },
          "execution_count": 43
        }
      ]
    },
    {
      "cell_type": "code",
      "metadata": {
        "colab": {
          "base_uri": "https://localhost:8080/"
        },
        "id": "Y73AWvpCmDca",
        "outputId": "5597f952-aa39-4896-c051-1d86285ef4a5"
      },
      "source": [
        "# Avistamentos por Cidade\n",
        "df['city'].value_counts()"
      ],
      "execution_count": 44,
      "outputs": [
        {
          "output_type": "execute_result",
          "data": {
            "text/plain": [
              "SEATTLE                                    525\n",
              "PHOENIX                                    454\n",
              "PORTLAND                                   374\n",
              "LAS VEGAS                                  368\n",
              "LOS ANGELES                                353\n",
              "                                          ... \n",
              "KEYPORT                                      1\n",
              "LAKE TAHOE (NEAR)                            1\n",
              "ELECTRIC CITY                                1\n",
              "TORONTO (GREATER TORONTO AREA) (CANADA)      1\n",
              "WICKENBURG/KINGMAN (BETWEEN)                 1\n",
              "Name: city, Length: 19900, dtype: int64"
            ]
          },
          "metadata": {
            "tags": []
          },
          "execution_count": 44
        }
      ]
    },
    {
      "cell_type": "code",
      "metadata": {
        "colab": {
          "base_uri": "https://localhost:8080/"
        },
        "id": "RiDIO5T6n2Vp",
        "outputId": "908d87b1-6fb0-449c-ef85-00583fb45f5c"
      },
      "source": [
        "df['city'].nunique() #19900 cidades relataram avistamentos"
      ],
      "execution_count": 45,
      "outputs": [
        {
          "output_type": "execute_result",
          "data": {
            "text/plain": [
              "19900"
            ]
          },
          "metadata": {
            "tags": []
          },
          "execution_count": 45
        }
      ]
    },
    {
      "cell_type": "code",
      "metadata": {
        "colab": {
          "base_uri": "https://localhost:8080/"
        },
        "id": "tpHP-hIHoAqs",
        "outputId": "ae6065a9-c676-4607-b024-83429f15449b"
      },
      "source": [
        "df['city'].value_counts().max()"
      ],
      "execution_count": 46,
      "outputs": [
        {
          "output_type": "execute_result",
          "data": {
            "text/plain": [
              "525"
            ]
          },
          "metadata": {
            "tags": []
          },
          "execution_count": 46
        }
      ]
    },
    {
      "cell_type": "code",
      "metadata": {
        "colab": {
          "base_uri": "https://localhost:8080/"
        },
        "id": "Et9K0xY1oP_U",
        "outputId": "594d0971-d60a-438d-fae8-252219bf60cd"
      },
      "source": [
        "df['city'].value_counts().min()"
      ],
      "execution_count": 47,
      "outputs": [
        {
          "output_type": "execute_result",
          "data": {
            "text/plain": [
              "1"
            ]
          },
          "metadata": {
            "tags": []
          },
          "execution_count": 47
        }
      ]
    },
    {
      "cell_type": "code",
      "metadata": {
        "colab": {
          "base_uri": "https://localhost:8080/"
        },
        "id": "NSVyUbQBoifL",
        "outputId": "de983360-4c39-433f-d49b-611e083d3398"
      },
      "source": [
        "moda_city = mode(df['city'])\n",
        "moda_city"
      ],
      "execution_count": 48,
      "outputs": [
        {
          "output_type": "execute_result",
          "data": {
            "text/plain": [
              "ModeResult(mode=array(['SEATTLE'], dtype=object), count=array([525]))"
            ]
          },
          "metadata": {
            "tags": []
          },
          "execution_count": 48
        }
      ]
    },
    {
      "cell_type": "code",
      "metadata": {
        "colab": {
          "base_uri": "https://localhost:8080/",
          "height": 402
        },
        "id": "WQ-DBP9ronMX",
        "outputId": "b62a2d94-b1c1-468a-8381-dc4f47cb1316"
      },
      "source": [
        "df.loc[df['city'] == 'SEATTLE']"
      ],
      "execution_count": 49,
      "outputs": [
        {
          "output_type": "execute_result",
          "data": {
            "text/html": [
              "<div>\n",
              "<style scoped>\n",
              "    .dataframe tbody tr th:only-of-type {\n",
              "        vertical-align: middle;\n",
              "    }\n",
              "\n",
              "    .dataframe tbody tr th {\n",
              "        vertical-align: top;\n",
              "    }\n",
              "\n",
              "    .dataframe thead th {\n",
              "        text-align: right;\n",
              "    }\n",
              "</style>\n",
              "<table border=\"1\" class=\"dataframe\">\n",
              "  <thead>\n",
              "    <tr style=\"text-align: right;\">\n",
              "      <th></th>\n",
              "      <th>datetime</th>\n",
              "      <th>city</th>\n",
              "      <th>state</th>\n",
              "      <th>country</th>\n",
              "      <th>shape</th>\n",
              "      <th>duration_minutes</th>\n",
              "      <th>duration_hours_min</th>\n",
              "      <th>comments</th>\n",
              "      <th>date_posted</th>\n",
              "      <th>latitude</th>\n",
              "      <th>longitude</th>\n",
              "    </tr>\n",
              "  </thead>\n",
              "  <tbody>\n",
              "    <tr>\n",
              "      <th>113</th>\n",
              "      <td>2002-10-10 06:00:00</td>\n",
              "      <td>SEATTLE</td>\n",
              "      <td>WA</td>\n",
              "      <td>US</td>\n",
              "      <td>sphere</td>\n",
              "      <td>1.50</td>\n",
              "      <td>90 seconds</td>\n",
              "      <td>Light falls from sky</td>\n",
              "      <td>2002-10-15</td>\n",
              "      <td>47.6063889</td>\n",
              "      <td>-122.330833</td>\n",
              "    </tr>\n",
              "    <tr>\n",
              "      <th>143</th>\n",
              "      <td>2005-10-10 07:40:00</td>\n",
              "      <td>SEATTLE</td>\n",
              "      <td>WA</td>\n",
              "      <td>US</td>\n",
              "      <td>other</td>\n",
              "      <td>1.00</td>\n",
              "      <td>one + minutes</td>\n",
              "      <td>round symetrical with roundish flat bottom shi...</td>\n",
              "      <td>2005-10-11</td>\n",
              "      <td>47.6063889</td>\n",
              "      <td>-122.330833</td>\n",
              "    </tr>\n",
              "    <tr>\n",
              "      <th>197</th>\n",
              "      <td>2008-10-10 20:00:00</td>\n",
              "      <td>SEATTLE</td>\n",
              "      <td>WA</td>\n",
              "      <td>US</td>\n",
              "      <td>light</td>\n",
              "      <td>3.00</td>\n",
              "      <td>3 minutes</td>\n",
              "      <td>Around 8:00 pm? I Went out side and looked up ...</td>\n",
              "      <td>2008-10-31</td>\n",
              "      <td>47.6063889</td>\n",
              "      <td>-122.330833</td>\n",
              "    </tr>\n",
              "    <tr>\n",
              "      <th>393</th>\n",
              "      <td>2007-10-11 19:50:00</td>\n",
              "      <td>SEATTLE</td>\n",
              "      <td>WA</td>\n",
              "      <td>US</td>\n",
              "      <td>triangle</td>\n",
              "      <td>0.17</td>\n",
              "      <td>10 seconds</td>\n",
              "      <td>I saw two orange colored lights&amp;#44 close toge...</td>\n",
              "      <td>2007-11-28</td>\n",
              "      <td>47.6063889</td>\n",
              "      <td>-122.330833</td>\n",
              "    </tr>\n",
              "    <tr>\n",
              "      <th>685</th>\n",
              "      <td>2001-10-01 01:05:00</td>\n",
              "      <td>SEATTLE</td>\n",
              "      <td>WA</td>\n",
              "      <td>US</td>\n",
              "      <td>nan</td>\n",
              "      <td>0.02</td>\n",
              "      <td>1 sec</td>\n",
              "      <td>just a meteor sighting...</td>\n",
              "      <td>2001-10-12</td>\n",
              "      <td>47.6063889</td>\n",
              "      <td>-122.330833</td>\n",
              "    </tr>\n",
              "    <tr>\n",
              "      <th>...</th>\n",
              "      <td>...</td>\n",
              "      <td>...</td>\n",
              "      <td>...</td>\n",
              "      <td>...</td>\n",
              "      <td>...</td>\n",
              "      <td>...</td>\n",
              "      <td>...</td>\n",
              "      <td>...</td>\n",
              "      <td>...</td>\n",
              "      <td>...</td>\n",
              "      <td>...</td>\n",
              "    </tr>\n",
              "    <tr>\n",
              "      <th>79563</th>\n",
              "      <td>2004-09-06 20:10:00</td>\n",
              "      <td>SEATTLE</td>\n",
              "      <td>WA</td>\n",
              "      <td>US</td>\n",
              "      <td>teardrop</td>\n",
              "      <td>3.00</td>\n",
              "      <td>3-4 seconds</td>\n",
              "      <td>orange-yellow teardrop flying very fast over s...</td>\n",
              "      <td>2004-09-29</td>\n",
              "      <td>47.6064</td>\n",
              "      <td>-122.330833</td>\n",
              "    </tr>\n",
              "    <tr>\n",
              "      <th>79580</th>\n",
              "      <td>2005-09-06 22:00:00</td>\n",
              "      <td>SEATTLE</td>\n",
              "      <td>WA</td>\n",
              "      <td>US</td>\n",
              "      <td>triangle</td>\n",
              "      <td>3.00</td>\n",
              "      <td>10 seconds</td>\n",
              "      <td>Triangular craft w/ large&amp;#44dim yellow-orange...</td>\n",
              "      <td>2005-10-11</td>\n",
              "      <td>47.6064</td>\n",
              "      <td>-122.330833</td>\n",
              "    </tr>\n",
              "    <tr>\n",
              "      <th>79722</th>\n",
              "      <td>2002-09-07 01:30:00</td>\n",
              "      <td>SEATTLE</td>\n",
              "      <td>WA</td>\n",
              "      <td>US</td>\n",
              "      <td>triangle</td>\n",
              "      <td>3.00</td>\n",
              "      <td>20 seconds</td>\n",
              "      <td>Large black triangle w/ 3 lights on tips hover...</td>\n",
              "      <td>2002-09-13</td>\n",
              "      <td>47.6064</td>\n",
              "      <td>-122.330833</td>\n",
              "    </tr>\n",
              "    <tr>\n",
              "      <th>79729</th>\n",
              "      <td>2002-09-07 21:30:00</td>\n",
              "      <td>SEATTLE</td>\n",
              "      <td>WA</td>\n",
              "      <td>US</td>\n",
              "      <td>circle</td>\n",
              "      <td>3.00</td>\n",
              "      <td>15 minutes</td>\n",
              "      <td>Very large white&amp;#44 green and red light hover...</td>\n",
              "      <td>2002-09-13</td>\n",
              "      <td>47.6064</td>\n",
              "      <td>-122.330833</td>\n",
              "    </tr>\n",
              "    <tr>\n",
              "      <th>80067</th>\n",
              "      <td>2012-09-08 21:00:00</td>\n",
              "      <td>SEATTLE</td>\n",
              "      <td>WA</td>\n",
              "      <td>US</td>\n",
              "      <td>circle</td>\n",
              "      <td>3.00</td>\n",
              "      <td>30 minutes</td>\n",
              "      <td>Multiple bright strobes in a circular pattern ...</td>\n",
              "      <td>2012-09-24</td>\n",
              "      <td>47.6064</td>\n",
              "      <td>-122.330833</td>\n",
              "    </tr>\n",
              "  </tbody>\n",
              "</table>\n",
              "<p>525 rows × 11 columns</p>\n",
              "</div>"
            ],
            "text/plain": [
              "                 datetime     city state  ... date_posted    latitude  longitude \n",
              "113   2002-10-10 06:00:00  SEATTLE    WA  ...  2002-10-15  47.6063889 -122.330833\n",
              "143   2005-10-10 07:40:00  SEATTLE    WA  ...  2005-10-11  47.6063889 -122.330833\n",
              "197   2008-10-10 20:00:00  SEATTLE    WA  ...  2008-10-31  47.6063889 -122.330833\n",
              "393   2007-10-11 19:50:00  SEATTLE    WA  ...  2007-11-28  47.6063889 -122.330833\n",
              "685   2001-10-01 01:05:00  SEATTLE    WA  ...  2001-10-12  47.6063889 -122.330833\n",
              "...                   ...      ...   ...  ...         ...         ...         ...\n",
              "79563 2004-09-06 20:10:00  SEATTLE    WA  ...  2004-09-29     47.6064 -122.330833\n",
              "79580 2005-09-06 22:00:00  SEATTLE    WA  ...  2005-10-11     47.6064 -122.330833\n",
              "79722 2002-09-07 01:30:00  SEATTLE    WA  ...  2002-09-13     47.6064 -122.330833\n",
              "79729 2002-09-07 21:30:00  SEATTLE    WA  ...  2002-09-13     47.6064 -122.330833\n",
              "80067 2012-09-08 21:00:00  SEATTLE    WA  ...  2012-09-24     47.6064 -122.330833\n",
              "\n",
              "[525 rows x 11 columns]"
            ]
          },
          "metadata": {
            "tags": []
          },
          "execution_count": 49
        }
      ]
    },
    {
      "cell_type": "code",
      "metadata": {
        "id": "3s4XUEoRpjcC"
      },
      "source": [
        "duration_minutes = df['duration_minutes']"
      ],
      "execution_count": 50,
      "outputs": []
    },
    {
      "cell_type": "code",
      "metadata": {
        "colab": {
          "base_uri": "https://localhost:8080/"
        },
        "id": "s-LDUwhfyWrn",
        "outputId": "e9af4130-e5e9-4113-ab51-ee8dccec8ee5"
      },
      "source": [
        "duration_minutes.to_frame"
      ],
      "execution_count": 51,
      "outputs": [
        {
          "output_type": "execute_result",
          "data": {
            "text/plain": [
              "<bound method Series.to_frame of 0         45.00\n",
              "1        120.00\n",
              "2          0.33\n",
              "3          0.33\n",
              "4         15.00\n",
              "          ...  \n",
              "80327      3.00\n",
              "80328      3.00\n",
              "80329      3.00\n",
              "80330      3.00\n",
              "80331      3.00\n",
              "Name: duration_minutes, Length: 80332, dtype: float64>"
            ]
          },
          "metadata": {
            "tags": []
          },
          "execution_count": 51
        }
      ]
    },
    {
      "cell_type": "code",
      "metadata": {
        "colab": {
          "base_uri": "https://localhost:8080/"
        },
        "id": "4SRx9HF1yall",
        "outputId": "8590cace-2fd7-4db4-9ae8-afd916055b5a"
      },
      "source": [
        "duration_minutes.idxmax()"
      ],
      "execution_count": 52,
      "outputs": [
        {
          "output_type": "execute_result",
          "data": {
            "text/plain": [
              "559"
            ]
          },
          "metadata": {
            "tags": []
          },
          "execution_count": 52
        }
      ]
    },
    {
      "cell_type": "code",
      "metadata": {
        "colab": {
          "base_uri": "https://localhost:8080/"
        },
        "id": "I_sfNyioyjln",
        "outputId": "44b231eb-77b8-4425-dea3-081d54d9b356"
      },
      "source": [
        "duration_minutes.iloc[559]"
      ],
      "execution_count": 53,
      "outputs": [
        {
          "output_type": "execute_result",
          "data": {
            "text/plain": [
              "1630600.0"
            ]
          },
          "metadata": {
            "tags": []
          },
          "execution_count": 53
        }
      ]
    },
    {
      "cell_type": "code",
      "metadata": {
        "colab": {
          "base_uri": "https://localhost:8080/"
        },
        "id": "dWUw8MM9ypPt",
        "outputId": "6ac8dfaf-dbf5-4092-c1dc-e0c351ebc289"
      },
      "source": [
        "duration_minutes.idxmin()"
      ],
      "execution_count": 54,
      "outputs": [
        {
          "output_type": "execute_result",
          "data": {
            "text/plain": [
              "1659"
            ]
          },
          "metadata": {
            "tags": []
          },
          "execution_count": 54
        }
      ]
    },
    {
      "cell_type": "code",
      "metadata": {
        "colab": {
          "base_uri": "https://localhost:8080/"
        },
        "id": "kh7kdJqDy1Mj",
        "outputId": "16438b76-b56b-413d-8ef6-ae9f1b307205"
      },
      "source": [
        "duration_minutes.iloc[1659]"
      ],
      "execution_count": 55,
      "outputs": [
        {
          "output_type": "execute_result",
          "data": {
            "text/plain": [
              "0.0"
            ]
          },
          "metadata": {
            "tags": []
          },
          "execution_count": 55
        }
      ]
    },
    {
      "cell_type": "code",
      "metadata": {
        "colab": {
          "base_uri": "https://localhost:8080/"
        },
        "id": "S77KdhlAy4mZ",
        "outputId": "9758bb97-6b4a-48af-c126-4504febf464d"
      },
      "source": [
        "duration_minutes.isnull().sum()"
      ],
      "execution_count": 56,
      "outputs": [
        {
          "output_type": "execute_result",
          "data": {
            "text/plain": [
              "0"
            ]
          },
          "metadata": {
            "tags": []
          },
          "execution_count": 56
        }
      ]
    },
    {
      "cell_type": "code",
      "metadata": {
        "colab": {
          "base_uri": "https://localhost:8080/"
        },
        "id": "wen0GNqCy-4L",
        "outputId": "f7132e31-df07-4b78-8c4f-6914969436d5"
      },
      "source": [
        "# Duração Média em minutos dos Avistamentos\n",
        "duration_minutes.mean()"
      ],
      "execution_count": 57,
      "outputs": [
        {
          "output_type": "execute_result",
          "data": {
            "text/plain": [
              "117.63805133694886"
            ]
          },
          "metadata": {
            "tags": []
          },
          "execution_count": 57
        }
      ]
    },
    {
      "cell_type": "code",
      "metadata": {
        "id": "J_XO14GA26Ws"
      },
      "source": [
        ""
      ],
      "execution_count": null,
      "outputs": []
    }
  ]
}